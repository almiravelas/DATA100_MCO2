{
 "cells": [
  {
   "cell_type": "markdown",
   "metadata": {},
   "source": [
    "## [INSERT TITLE]"
   ]
  },
  {
   "cell_type": "markdown",
   "metadata": {},
   "source": [
    "- \n",
    "-\n",
    "-\n",
    "- Velasquez, Almira Zabrina Alyson Q."
   ]
  },
  {
   "cell_type": "markdown",
   "metadata": {},
   "source": [
    "link to dataset: https://www.start.umd.edu/data-tools/GTD?fbclid=IwY2xjawGsWdtleHRuA2FlbQIxMQABHelOWZ92imSyR5CNNl3hX7DyDm0RbLu7CRxasL54IcugUstkkzgQrBsLIg_aem_rWPWYEYQ7IHFXqqyMVw1ug"
   ]
  },
  {
   "cell_type": "markdown",
   "metadata": {},
   "source": [
    "### Dataset Description"
   ]
  },
  {
   "cell_type": "markdown",
   "metadata": {},
   "source": [
    "This dataset contains records on global terrorism incidents, including details such as attack types, locations, targets, and outcomes. It aims to provide comprehensive data for analyzing patterns and trends in terrorism across various regions and over time. The dataset likely includes key attributes such as:"
   ]
  },
  {
   "cell_type": "markdown",
   "metadata": {},
   "source": [
    "- Date and location of incidents\n",
    "- Attack methods (e.g., bombing, armed assault)\n",
    "- Targets (e.g., civilians, infrastructure, government institutions)\n",
    "- Outcomes (e.g., fatalities, injuries, damage)"
   ]
  },
  {
   "cell_type": "markdown",
   "metadata": {},
   "source": [
    "##### The objective of this analysis is to:\n",
    "\n",
    "- Identify global trends in terrorism by examining temporal and geographic patterns.\n",
    "\n",
    "- Analyze common targets and their characteristics to understand which groups or entities are most frequently attacked.\n",
    "\n",
    "- Determine correlations between types of attacks and their outcomes, such as the severity of casualties or economic impact.\n"
   ]
  },
  {
   "cell_type": "code",
   "execution_count": 2,
   "metadata": {},
   "outputs": [],
   "source": [
    "#IMPORTS\n",
    "\n",
    "import os\n",
    "import math\n",
    "import pandas as pd\n",
    "import numpy as np\n",
    "import matplotlib.pyplot as plt\n",
    "import seaborn as sns"
   ]
  },
  {
   "cell_type": "code",
   "execution_count": 3,
   "metadata": {},
   "outputs": [],
   "source": [
    "file_path = 'globalterrorismdb_2021Jan-June_1222dist.xlsx'\n",
    "\n",
    "df = pd.read_excel(file_path)"
   ]
  },
  {
   "cell_type": "markdown",
   "metadata": {},
   "source": [
    "#### Exploratory Analysis"
   ]
  },
  {
   "cell_type": "markdown",
   "metadata": {},
   "source": [
    "Describe your data and show what kind of initial features you are dealing with\n",
    "You can point anomalies/outliers in the data. Discuss patterns or findings."
   ]
  },
  {
   "cell_type": "code",
   "execution_count": 4,
   "metadata": {},
   "outputs": [
    {
     "data": {
      "text/html": [
       "<div>\n",
       "<style scoped>\n",
       "    .dataframe tbody tr th:only-of-type {\n",
       "        vertical-align: middle;\n",
       "    }\n",
       "\n",
       "    .dataframe tbody tr th {\n",
       "        vertical-align: top;\n",
       "    }\n",
       "\n",
       "    .dataframe thead th {\n",
       "        text-align: right;\n",
       "    }\n",
       "</style>\n",
       "<table border=\"1\" class=\"dataframe\">\n",
       "  <thead>\n",
       "    <tr style=\"text-align: right;\">\n",
       "      <th></th>\n",
       "      <th>eventid</th>\n",
       "      <th>iyear</th>\n",
       "      <th>imonth</th>\n",
       "      <th>iday</th>\n",
       "      <th>approxdate</th>\n",
       "      <th>extended</th>\n",
       "      <th>resolution</th>\n",
       "      <th>country</th>\n",
       "      <th>country_txt</th>\n",
       "      <th>region</th>\n",
       "      <th>...</th>\n",
       "      <th>addnotes</th>\n",
       "      <th>scite1</th>\n",
       "      <th>scite2</th>\n",
       "      <th>scite3</th>\n",
       "      <th>dbsource</th>\n",
       "      <th>INT_LOG</th>\n",
       "      <th>INT_IDEO</th>\n",
       "      <th>INT_MISC</th>\n",
       "      <th>INT_ANY</th>\n",
       "      <th>related</th>\n",
       "    </tr>\n",
       "  </thead>\n",
       "  <tbody>\n",
       "    <tr>\n",
       "      <th>0</th>\n",
       "      <td>202101010004</td>\n",
       "      <td>2021</td>\n",
       "      <td>1</td>\n",
       "      <td>1</td>\n",
       "      <td>NaN</td>\n",
       "      <td>0</td>\n",
       "      <td>NaT</td>\n",
       "      <td>60</td>\n",
       "      <td>Egypt</td>\n",
       "      <td>10</td>\n",
       "      <td>...</td>\n",
       "      <td>NaN</td>\n",
       "      <td>\"Egyptian officials: Roadside bombing in Sinai...</td>\n",
       "      <td>NaN</td>\n",
       "      <td>NaN</td>\n",
       "      <td>START Primary Collection</td>\n",
       "      <td>-9</td>\n",
       "      <td>-9</td>\n",
       "      <td>0</td>\n",
       "      <td>-9</td>\n",
       "      <td>NaN</td>\n",
       "    </tr>\n",
       "    <tr>\n",
       "      <th>1</th>\n",
       "      <td>202101010005</td>\n",
       "      <td>2021</td>\n",
       "      <td>1</td>\n",
       "      <td>1</td>\n",
       "      <td>01/01/2021</td>\n",
       "      <td>0</td>\n",
       "      <td>NaT</td>\n",
       "      <td>92</td>\n",
       "      <td>India</td>\n",
       "      <td>6</td>\n",
       "      <td>...</td>\n",
       "      <td>NaN</td>\n",
       "      <td>\"Terror module busted, seven arrested in J&amp;K,\"...</td>\n",
       "      <td>\"Militants throw grenade on CRPF,\" HT Syndicat...</td>\n",
       "      <td>NaN</td>\n",
       "      <td>START Primary Collection</td>\n",
       "      <td>-9</td>\n",
       "      <td>-9</td>\n",
       "      <td>0</td>\n",
       "      <td>-9</td>\n",
       "      <td>NaN</td>\n",
       "    </tr>\n",
       "    <tr>\n",
       "      <th>2</th>\n",
       "      <td>202101010006</td>\n",
       "      <td>2021</td>\n",
       "      <td>1</td>\n",
       "      <td>1</td>\n",
       "      <td>NaN</td>\n",
       "      <td>0</td>\n",
       "      <td>NaT</td>\n",
       "      <td>228</td>\n",
       "      <td>Yemen</td>\n",
       "      <td>10</td>\n",
       "      <td>...</td>\n",
       "      <td>There is doubt that this incident meets terror...</td>\n",
       "      <td>\"Civilian reportedly dies of injuries from Hou...</td>\n",
       "      <td>\"UN troubled by civilian deaths in Yemen's Hud...</td>\n",
       "      <td>\"Five women killed in Yemen wedding attack,\" G...</td>\n",
       "      <td>START Primary Collection</td>\n",
       "      <td>0</td>\n",
       "      <td>0</td>\n",
       "      <td>0</td>\n",
       "      <td>0</td>\n",
       "      <td>NaN</td>\n",
       "    </tr>\n",
       "    <tr>\n",
       "      <th>3</th>\n",
       "      <td>202101010009</td>\n",
       "      <td>2021</td>\n",
       "      <td>1</td>\n",
       "      <td>1</td>\n",
       "      <td>NaN</td>\n",
       "      <td>0</td>\n",
       "      <td>NaT</td>\n",
       "      <td>4</td>\n",
       "      <td>Afghanistan</td>\n",
       "      <td>6</td>\n",
       "      <td>...</td>\n",
       "      <td>There is doubt that this incident meets terror...</td>\n",
       "      <td>\"Afghanistan- Ghor Provincial Council Member K...</td>\n",
       "      <td>\"Journalist killed on 1st day of new year in A...</td>\n",
       "      <td>\"Afghanistan: 2021 Begins with Assassination o...</td>\n",
       "      <td>START Primary Collection</td>\n",
       "      <td>-9</td>\n",
       "      <td>-9</td>\n",
       "      <td>0</td>\n",
       "      <td>-9</td>\n",
       "      <td>NaN</td>\n",
       "    </tr>\n",
       "    <tr>\n",
       "      <th>4</th>\n",
       "      <td>202101010024</td>\n",
       "      <td>2021</td>\n",
       "      <td>1</td>\n",
       "      <td>2</td>\n",
       "      <td>NaN</td>\n",
       "      <td>0</td>\n",
       "      <td>NaT</td>\n",
       "      <td>182</td>\n",
       "      <td>Somalia</td>\n",
       "      <td>11</td>\n",
       "      <td>...</td>\n",
       "      <td>NaN</td>\n",
       "      <td>\"Jubbaland lawmaker killed in car bomb blast,\"...</td>\n",
       "      <td>\"Somali lawmaker killed in a sticky bomb attac...</td>\n",
       "      <td>\"Al-Shabab claims killing regional MP in south...</td>\n",
       "      <td>START Primary Collection</td>\n",
       "      <td>0</td>\n",
       "      <td>0</td>\n",
       "      <td>0</td>\n",
       "      <td>0</td>\n",
       "      <td>NaN</td>\n",
       "    </tr>\n",
       "  </tbody>\n",
       "</table>\n",
       "<p>5 rows × 135 columns</p>\n",
       "</div>"
      ],
      "text/plain": [
       "        eventid  iyear  imonth  iday  approxdate  extended resolution  \\\n",
       "0  202101010004   2021       1     1         NaN         0        NaT   \n",
       "1  202101010005   2021       1     1  01/01/2021         0        NaT   \n",
       "2  202101010006   2021       1     1         NaN         0        NaT   \n",
       "3  202101010009   2021       1     1         NaN         0        NaT   \n",
       "4  202101010024   2021       1     2         NaN         0        NaT   \n",
       "\n",
       "   country  country_txt  region  ...  \\\n",
       "0       60        Egypt      10  ...   \n",
       "1       92        India       6  ...   \n",
       "2      228        Yemen      10  ...   \n",
       "3        4  Afghanistan       6  ...   \n",
       "4      182      Somalia      11  ...   \n",
       "\n",
       "                                            addnotes  \\\n",
       "0                                                NaN   \n",
       "1                                                NaN   \n",
       "2  There is doubt that this incident meets terror...   \n",
       "3  There is doubt that this incident meets terror...   \n",
       "4                                                NaN   \n",
       "\n",
       "                                              scite1  \\\n",
       "0  \"Egyptian officials: Roadside bombing in Sinai...   \n",
       "1  \"Terror module busted, seven arrested in J&K,\"...   \n",
       "2  \"Civilian reportedly dies of injuries from Hou...   \n",
       "3  \"Afghanistan- Ghor Provincial Council Member K...   \n",
       "4  \"Jubbaland lawmaker killed in car bomb blast,\"...   \n",
       "\n",
       "                                              scite2  \\\n",
       "0                                                NaN   \n",
       "1  \"Militants throw grenade on CRPF,\" HT Syndicat...   \n",
       "2  \"UN troubled by civilian deaths in Yemen's Hud...   \n",
       "3  \"Journalist killed on 1st day of new year in A...   \n",
       "4  \"Somali lawmaker killed in a sticky bomb attac...   \n",
       "\n",
       "                                              scite3  \\\n",
       "0                                                NaN   \n",
       "1                                                NaN   \n",
       "2  \"Five women killed in Yemen wedding attack,\" G...   \n",
       "3  \"Afghanistan: 2021 Begins with Assassination o...   \n",
       "4  \"Al-Shabab claims killing regional MP in south...   \n",
       "\n",
       "                   dbsource  INT_LOG  INT_IDEO INT_MISC INT_ANY  related  \n",
       "0  START Primary Collection       -9        -9        0      -9      NaN  \n",
       "1  START Primary Collection       -9        -9        0      -9      NaN  \n",
       "2  START Primary Collection        0         0        0       0      NaN  \n",
       "3  START Primary Collection       -9        -9        0      -9      NaN  \n",
       "4  START Primary Collection        0         0        0       0      NaN  \n",
       "\n",
       "[5 rows x 135 columns]"
      ]
     },
     "execution_count": 4,
     "metadata": {},
     "output_type": "execute_result"
    }
   ],
   "source": [
    "df.head()"
   ]
  },
  {
   "cell_type": "code",
   "execution_count": 5,
   "metadata": {},
   "outputs": [
    {
     "data": {
      "text/html": [
       "<div>\n",
       "<style scoped>\n",
       "    .dataframe tbody tr th:only-of-type {\n",
       "        vertical-align: middle;\n",
       "    }\n",
       "\n",
       "    .dataframe tbody tr th {\n",
       "        vertical-align: top;\n",
       "    }\n",
       "\n",
       "    .dataframe thead th {\n",
       "        text-align: right;\n",
       "    }\n",
       "</style>\n",
       "<table border=\"1\" class=\"dataframe\">\n",
       "  <thead>\n",
       "    <tr style=\"text-align: right;\">\n",
       "      <th></th>\n",
       "      <th>eventid</th>\n",
       "      <th>iyear</th>\n",
       "      <th>imonth</th>\n",
       "      <th>iday</th>\n",
       "      <th>approxdate</th>\n",
       "      <th>extended</th>\n",
       "      <th>resolution</th>\n",
       "      <th>country</th>\n",
       "      <th>country_txt</th>\n",
       "      <th>region</th>\n",
       "      <th>...</th>\n",
       "      <th>addnotes</th>\n",
       "      <th>scite1</th>\n",
       "      <th>scite2</th>\n",
       "      <th>scite3</th>\n",
       "      <th>dbsource</th>\n",
       "      <th>INT_LOG</th>\n",
       "      <th>INT_IDEO</th>\n",
       "      <th>INT_MISC</th>\n",
       "      <th>INT_ANY</th>\n",
       "      <th>related</th>\n",
       "    </tr>\n",
       "  </thead>\n",
       "  <tbody>\n",
       "    <tr>\n",
       "      <th>4955</th>\n",
       "      <td>202106300023</td>\n",
       "      <td>2021</td>\n",
       "      <td>6</td>\n",
       "      <td>30</td>\n",
       "      <td>NaN</td>\n",
       "      <td>0</td>\n",
       "      <td>NaT</td>\n",
       "      <td>4</td>\n",
       "      <td>Afghanistan</td>\n",
       "      <td>6</td>\n",
       "      <td>...</td>\n",
       "      <td>NaN</td>\n",
       "      <td>\"Gunmen blow up power pylon in Parwan,\" Afghan...</td>\n",
       "      <td>\"Provinces hit by blackout after power pylon d...</td>\n",
       "      <td>NaN</td>\n",
       "      <td>START Primary Collection</td>\n",
       "      <td>-9</td>\n",
       "      <td>-9</td>\n",
       "      <td>0</td>\n",
       "      <td>-9</td>\n",
       "      <td>NaN</td>\n",
       "    </tr>\n",
       "    <tr>\n",
       "      <th>4956</th>\n",
       "      <td>202106300029</td>\n",
       "      <td>2021</td>\n",
       "      <td>6</td>\n",
       "      <td>30</td>\n",
       "      <td>06/30/2021</td>\n",
       "      <td>0</td>\n",
       "      <td>NaT</td>\n",
       "      <td>138</td>\n",
       "      <td>Myanmar</td>\n",
       "      <td>5</td>\n",
       "      <td>...</td>\n",
       "      <td>NaN</td>\n",
       "      <td>\"Spring Revolution Daily News for 16-30 June 2...</td>\n",
       "      <td>NaN</td>\n",
       "      <td>NaN</td>\n",
       "      <td>START Primary Collection</td>\n",
       "      <td>-9</td>\n",
       "      <td>-9</td>\n",
       "      <td>0</td>\n",
       "      <td>-9</td>\n",
       "      <td>NaN</td>\n",
       "    </tr>\n",
       "    <tr>\n",
       "      <th>4957</th>\n",
       "      <td>202106300030</td>\n",
       "      <td>2021</td>\n",
       "      <td>6</td>\n",
       "      <td>30</td>\n",
       "      <td>NaN</td>\n",
       "      <td>1</td>\n",
       "      <td>2021-07-08</td>\n",
       "      <td>147</td>\n",
       "      <td>Nigeria</td>\n",
       "      <td>11</td>\n",
       "      <td>...</td>\n",
       "      <td>NaN</td>\n",
       "      <td>\"Boko Haram Releases Abducted Catholic Priest ...</td>\n",
       "      <td>\"Kidnapped Maiduguri Catholic Priest regains f...</td>\n",
       "      <td>\"ISWAP-Boko Haram Abduct Catholic Priest In Bo...</td>\n",
       "      <td>START Primary Collection</td>\n",
       "      <td>0</td>\n",
       "      <td>0</td>\n",
       "      <td>0</td>\n",
       "      <td>0</td>\n",
       "      <td>NaN</td>\n",
       "    </tr>\n",
       "    <tr>\n",
       "      <th>4958</th>\n",
       "      <td>202106300038</td>\n",
       "      <td>2021</td>\n",
       "      <td>6</td>\n",
       "      <td>30</td>\n",
       "      <td>NaN</td>\n",
       "      <td>0</td>\n",
       "      <td>NaT</td>\n",
       "      <td>45</td>\n",
       "      <td>Colombia</td>\n",
       "      <td>3</td>\n",
       "      <td>...</td>\n",
       "      <td>NaN</td>\n",
       "      <td>\"Two dead and one wounded after clashes betwee...</td>\n",
       "      <td>NaN</td>\n",
       "      <td>NaN</td>\n",
       "      <td>START Primary Collection</td>\n",
       "      <td>0</td>\n",
       "      <td>0</td>\n",
       "      <td>0</td>\n",
       "      <td>0</td>\n",
       "      <td>NaN</td>\n",
       "    </tr>\n",
       "    <tr>\n",
       "      <th>4959</th>\n",
       "      <td>202107020037</td>\n",
       "      <td>2021</td>\n",
       "      <td>6</td>\n",
       "      <td>30</td>\n",
       "      <td>NaN</td>\n",
       "      <td>0</td>\n",
       "      <td>NaT</td>\n",
       "      <td>138</td>\n",
       "      <td>Myanmar</td>\n",
       "      <td>5</td>\n",
       "      <td>...</td>\n",
       "      <td>There is doubt that this incident meets terror...</td>\n",
       "      <td>\"Spring Revolution Daily News for 2-7 July 202...</td>\n",
       "      <td>NaN</td>\n",
       "      <td>NaN</td>\n",
       "      <td>START Primary Collection</td>\n",
       "      <td>-9</td>\n",
       "      <td>-9</td>\n",
       "      <td>0</td>\n",
       "      <td>-9</td>\n",
       "      <td>NaN</td>\n",
       "    </tr>\n",
       "  </tbody>\n",
       "</table>\n",
       "<p>5 rows × 135 columns</p>\n",
       "</div>"
      ],
      "text/plain": [
       "           eventid  iyear  imonth  iday  approxdate  extended resolution  \\\n",
       "4955  202106300023   2021       6    30         NaN         0        NaT   \n",
       "4956  202106300029   2021       6    30  06/30/2021         0        NaT   \n",
       "4957  202106300030   2021       6    30         NaN         1 2021-07-08   \n",
       "4958  202106300038   2021       6    30         NaN         0        NaT   \n",
       "4959  202107020037   2021       6    30         NaN         0        NaT   \n",
       "\n",
       "      country  country_txt  region  ...  \\\n",
       "4955        4  Afghanistan       6  ...   \n",
       "4956      138      Myanmar       5  ...   \n",
       "4957      147      Nigeria      11  ...   \n",
       "4958       45     Colombia       3  ...   \n",
       "4959      138      Myanmar       5  ...   \n",
       "\n",
       "                                               addnotes  \\\n",
       "4955                                                NaN   \n",
       "4956                                                NaN   \n",
       "4957                                                NaN   \n",
       "4958                                                NaN   \n",
       "4959  There is doubt that this incident meets terror...   \n",
       "\n",
       "                                                 scite1  \\\n",
       "4955  \"Gunmen blow up power pylon in Parwan,\" Afghan...   \n",
       "4956  \"Spring Revolution Daily News for 16-30 June 2...   \n",
       "4957  \"Boko Haram Releases Abducted Catholic Priest ...   \n",
       "4958  \"Two dead and one wounded after clashes betwee...   \n",
       "4959  \"Spring Revolution Daily News for 2-7 July 202...   \n",
       "\n",
       "                                                 scite2  \\\n",
       "4955  \"Provinces hit by blackout after power pylon d...   \n",
       "4956                                                NaN   \n",
       "4957  \"Kidnapped Maiduguri Catholic Priest regains f...   \n",
       "4958                                                NaN   \n",
       "4959                                                NaN   \n",
       "\n",
       "                                                 scite3  \\\n",
       "4955                                                NaN   \n",
       "4956                                                NaN   \n",
       "4957  \"ISWAP-Boko Haram Abduct Catholic Priest In Bo...   \n",
       "4958                                                NaN   \n",
       "4959                                                NaN   \n",
       "\n",
       "                      dbsource  INT_LOG  INT_IDEO INT_MISC INT_ANY  related  \n",
       "4955  START Primary Collection       -9        -9        0      -9      NaN  \n",
       "4956  START Primary Collection       -9        -9        0      -9      NaN  \n",
       "4957  START Primary Collection        0         0        0       0      NaN  \n",
       "4958  START Primary Collection        0         0        0       0      NaN  \n",
       "4959  START Primary Collection       -9        -9        0      -9      NaN  \n",
       "\n",
       "[5 rows x 135 columns]"
      ]
     },
     "execution_count": 5,
     "metadata": {},
     "output_type": "execute_result"
    }
   ],
   "source": [
    "df.tail()"
   ]
  },
  {
   "cell_type": "code",
   "execution_count": 6,
   "metadata": {},
   "outputs": [
    {
     "name": "stdout",
     "output_type": "stream",
     "text": [
      "\n",
      "Dataset Shape (Rows, Columns): (4960, 135)\n"
     ]
    }
   ],
   "source": [
    "print(\"\\nDataset Shape (Rows, Columns):\", df.shape)"
   ]
  },
  {
   "cell_type": "code",
   "execution_count": 7,
   "metadata": {},
   "outputs": [
    {
     "name": "stdout",
     "output_type": "stream",
     "text": [
      "\n",
      "Column Names:\n",
      "Index(['eventid', 'iyear', 'imonth', 'iday', 'approxdate', 'extended',\n",
      "       'resolution', 'country', 'country_txt', 'region',\n",
      "       ...\n",
      "       'addnotes', 'scite1', 'scite2', 'scite3', 'dbsource', 'INT_LOG',\n",
      "       'INT_IDEO', 'INT_MISC', 'INT_ANY', 'related'],\n",
      "      dtype='object', length=135)\n"
     ]
    }
   ],
   "source": [
    "print(\"\\nColumn Names:\")\n",
    "print(df.columns)"
   ]
  },
  {
   "cell_type": "code",
   "execution_count": 8,
   "metadata": {},
   "outputs": [
    {
     "name": "stdout",
     "output_type": "stream",
     "text": [
      "\n",
      "Missing Values per Column:\n",
      "eventid          0\n",
      "iyear            0\n",
      "imonth           0\n",
      "iday             0\n",
      "approxdate    4576\n",
      "              ... \n",
      "INT_LOG          0\n",
      "INT_IDEO         0\n",
      "INT_MISC         0\n",
      "INT_ANY          0\n",
      "related       3994\n",
      "Length: 135, dtype: int64\n"
     ]
    }
   ],
   "source": [
    "print(\"\\nMissing Values per Column:\")\n",
    "print(df.isnull().sum())"
   ]
  },
  {
   "cell_type": "code",
   "execution_count": 10,
   "metadata": {},
   "outputs": [
    {
     "name": "stdout",
     "output_type": "stream",
     "text": [
      "\n",
      "Dataset Info:\n",
      "<class 'pandas.core.frame.DataFrame'>\n",
      "RangeIndex: 4960 entries, 0 to 4959\n",
      "Columns: 135 entries, eventid to related\n",
      "dtypes: datetime64[ns](1), float64(51), int64(29), object(54)\n",
      "memory usage: 5.1+ MB\n"
     ]
    }
   ],
   "source": [
    "print(\"\\nDataset Info:\")\n",
    "df.info()"
   ]
  },
  {
   "cell_type": "markdown",
   "metadata": {},
   "source": [
    "#### Data Preprocessing and Cleaning\n"
   ]
  },
  {
   "cell_type": "markdown",
   "metadata": {},
   "source": [
    "Explain why the data was preprocessed that way\n",
    "If you removed data, explain why removing the data was necessary"
   ]
  },
  {
   "cell_type": "code",
   "execution_count": null,
   "metadata": {},
   "outputs": [],
   "source": []
  },
  {
   "cell_type": "markdown",
   "metadata": {},
   "source": [
    "#### Feature Extraction"
   ]
  },
  {
   "cell_type": "markdown",
   "metadata": {},
   "source": [
    "Explain (even if briefly) what these features are, and why they may help"
   ]
  },
  {
   "cell_type": "markdown",
   "metadata": {},
   "source": [
    "#### Data Visualization and Exploratory Data Analysis"
   ]
  },
  {
   "cell_type": "markdown",
   "metadata": {},
   "source": [
    "Explain what the chart shows and what insights can be seen from it"
   ]
  },
  {
   "cell_type": "markdown",
   "metadata": {},
   "source": [
    "7.1) It is required for you to use statistical techniques, univariate, bivariate and multivariate analysis, etc. You may use techniques that are not discussed in synchronous lectures or in class.\n",
    "7.2) It is NOT required for you to implement Machine Learning techniques. But you are encouraged to try to implement."
   ]
  },
  {
   "cell_type": "code",
   "execution_count": null,
   "metadata": {},
   "outputs": [],
   "source": []
  },
  {
   "cell_type": "markdown",
   "metadata": {},
   "source": [
    "#### Summary and Recommendations"
   ]
  },
  {
   "cell_type": "markdown",
   "metadata": {},
   "source": [
    "- summarize findings"
   ]
  },
  {
   "cell_type": "markdown",
   "metadata": {},
   "source": [
    "#### Future Work"
   ]
  },
  {
   "cell_type": "markdown",
   "metadata": {},
   "source": [
    "9.1) Include a Gantt chart that has a timeline of the next steps if you are given 2 to 4 months to continue this project/research.\n",
    "9.2) If you did not implement machine learning technique/s, what are the candidate machine learning technique/s that you plan. Give an explanation of what are the possible benefits or improvements of these machine learning technique/s from what you have implemented in step 7 (EDA and Statistics) and details (e.g. hyperparameter tuning, different settings, and experiments).\n",
    "9.3) If you were able to implement machine learning technique/s, what are other or more advanced techniques that you plan to implement? Include details (e.g. hyperparameter tuning, different settings, and experiments) and how would these other or more advanced techniques compare to the current machine learning techniques that you were able to implement."
   ]
  },
  {
   "cell_type": "markdown",
   "metadata": {},
   "source": [
    "#### References"
   ]
  },
  {
   "cell_type": "markdown",
   "metadata": {},
   "source": [
    "You are encouraged to look at existing solutions online and learn from them (please cite). You also are encouraged to explore other techniques that were not discussed in class and cite all of your references."
   ]
  },
  {
   "cell_type": "markdown",
   "metadata": {},
   "source": [
    "START (National Consortium for the Study of Terrorism and Responses to Terrorism). (2022). Global Terrorism Database 1970 - 2020 [data file]. https://www.start.umd.edu/gtd"
   ]
  }
 ],
 "metadata": {
  "kernelspec": {
   "display_name": "Python 3",
   "language": "python",
   "name": "python3"
  },
  "language_info": {
   "codemirror_mode": {
    "name": "ipython",
    "version": 3
   },
   "file_extension": ".py",
   "mimetype": "text/x-python",
   "name": "python",
   "nbconvert_exporter": "python",
   "pygments_lexer": "ipython3",
   "version": "3.11.9"
  }
 },
 "nbformat": 4,
 "nbformat_minor": 2
}
